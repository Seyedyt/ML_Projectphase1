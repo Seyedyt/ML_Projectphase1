{
  "cells": [
    {
      "cell_type": "markdown",
      "id": "b106033a",
      "metadata": {
        "id": "b106033a"
      },
      "source": [
        "## Data Preparation\n",
        "We'll start by importing the necessary libraries and preparing the CIFAR-10 dataset."
      ]
    },
    {
      "cell_type": "code",
      "execution_count": 1,
      "id": "cbdeb275",
      "metadata": {
        "id": "cbdeb275"
      },
      "outputs": [],
      "source": [
        "import torch\n",
        "import torch.nn as nn\n",
        "import torch.optim as optim\n",
        "from torchvision import datasets, transforms, models\n",
        "from sklearn.metrics import f1_score, accuracy_score, precision_score, recall_score, roc_auc_score\n",
        "from torch.utils.data import DataLoader, Subset\n",
        "import numpy as np"
      ]
    },
    {
      "cell_type": "code",
      "execution_count": 2,
      "id": "e8c626ba",
      "metadata": {
        "id": "e8c626ba"
      },
      "outputs": [],
      "source": [
        "# Set device\n",
        "device = torch.device('cuda' if torch.cuda.is_available() else 'cpu')\n",
        "\n",
        "# Transformations for the CIFAR-10 dataset\n",
        "transform = transforms.Compose([\n",
        "    transforms.Resize((224, 224)),\n",
        "    transforms.ToTensor(),\n",
        "    transforms.Normalize((0.5, 0.5, 0.5), (0.5, 0.5, 0.5)),\n",
        "])"
      ]
    },
    {
      "cell_type": "code",
      "execution_count": 3,
      "id": "74e9ef58",
      "metadata": {
        "colab": {
          "base_uri": "https://localhost:8080/"
        },
        "id": "74e9ef58",
        "outputId": "87d2d9c0-86be-4d81-8e3a-c562b1ae5798"
      },
      "outputs": [
        {
          "output_type": "stream",
          "name": "stdout",
          "text": [
            "Files already downloaded and verified\n",
            "Files already downloaded and verified\n",
            "Original training dataset size: 50000\n"
          ]
        }
      ],
      "source": [
        "# Download CIFAR-10 dataset\n",
        "train_dataset = datasets.CIFAR10(root='./data', train=True, download=True, transform=transform)\n",
        "test_dataset = datasets.CIFAR10(root='./data', train=False, download=True, transform=transform)\n",
        "\n",
        "print(f'Original training dataset size: {len(train_dataset)}')"
      ]
    },
    {
      "cell_type": "code",
      "source": [
        "# Create a very small subset of the CIFAR-10 dataset\n",
        "subset_indices = np.random.choice(len(train_dataset), 200, replace=False)\n",
        "small_train_dataset = Subset(train_dataset, subset_indices)\n",
        "\n",
        "print(f'Smaller training dataset size: {len(small_train_dataset)}')"
      ],
      "metadata": {
        "colab": {
          "base_uri": "https://localhost:8080/"
        },
        "id": "8GQ34G6wbynK",
        "outputId": "6678055e-af15-4283-b296-48792d915db4"
      },
      "id": "8GQ34G6wbynK",
      "execution_count": 4,
      "outputs": [
        {
          "output_type": "stream",
          "name": "stdout",
          "text": [
            "Smaller training dataset size: 200\n"
          ]
        }
      ]
    },
    {
      "cell_type": "code",
      "execution_count": 5,
      "id": "fa3e7170",
      "metadata": {
        "id": "fa3e7170"
      },
      "outputs": [],
      "source": [
        "# Function to split dataset into shards and slices\n",
        "def split_dataset(dataset, num_shards, num_slices):\n",
        "    shard_size = len(dataset) // num_shards\n",
        "    shards = [Subset(dataset, range(i * shard_size, (i + 1) * shard_size)) for i in range(num_shards)]\n",
        "    slices = []\n",
        "    for i, shard in enumerate(shards):\n",
        "        print(f'Shard {i+1} size: {len(shard)}')\n",
        "        slice_size = len(shard) // num_slices\n",
        "        shard_slices = [Subset(shard, range(j * slice_size, (j + 1) * slice_size)) for j in range(num_slices)]\n",
        "        for k, shard_slice in enumerate(shard_slices):\n",
        "            print(f'Shard {i+1}, Slice {k+1} size: {len(shard_slice)}')\n",
        "        slices.append(shard_slices)\n",
        "    return slices"
      ]
    },
    {
      "cell_type": "code",
      "execution_count": 6,
      "id": "595743fb",
      "metadata": {
        "colab": {
          "base_uri": "https://localhost:8080/"
        },
        "id": "595743fb",
        "outputId": "4bc27c47-6954-4795-9778-72c6e1752922"
      },
      "outputs": [
        {
          "output_type": "stream",
          "name": "stdout",
          "text": [
            "Shard 1 size: 100\n",
            "Shard 1, Slice 1 size: 50\n",
            "Shard 1, Slice 2 size: 50\n",
            "Shard 2 size: 100\n",
            "Shard 2, Slice 1 size: 50\n",
            "Shard 2, Slice 2 size: 50\n"
          ]
        }
      ],
      "source": [
        "# Example split for small dataset\n",
        "num_shards = 2\n",
        "num_slices = 2\n",
        "slices = split_dataset(small_train_dataset, num_shards, num_slices)"
      ]
    },
    {
      "cell_type": "markdown",
      "source": [
        "## Model Training\n",
        "Next, we'll define a function to train the model using the slices from each shard."
      ],
      "metadata": {
        "id": "mVhQgfAOMtT0"
      },
      "id": "mVhQgfAOMtT0"
    },
    {
      "cell_type": "code",
      "source": [
        "def train_model_on_slices(slices, epochs_per_slice):\n",
        "    trained_models = []\n",
        "    criterion = nn.CrossEntropyLoss()\n",
        "\n",
        "    for shard in slices:\n",
        "        model = models.resnet18(pretrained=True)\n",
        "        # Modify ResNet-18 to add fully connected layers\n",
        "        num_features = model.fc.in_features\n",
        "        model.fc = nn.Sequential(\n",
        "            nn.Linear(num_features, 512),\n",
        "            nn.ReLU(),\n",
        "            nn.Dropout(0.5),\n",
        "            nn.Linear(512, 10)  # CIFAR-10 has 10 classes\n",
        "        )\n",
        "        model = model.to(device)\n",
        "        optimizer = optim.Adam(model.parameters(), lr=0.001)\n",
        "\n",
        "        for slice in shard:\n",
        "            dataloader = DataLoader(slice, batch_size=64, shuffle=True)\n",
        "            model.train()\n",
        "            for epoch in range(epochs_per_slice):\n",
        "                for images, labels in dataloader:\n",
        "                    images, labels = images.to(device), labels.to(device)\n",
        "                    optimizer.zero_grad()\n",
        "                    outputs = model(images)\n",
        "                    loss = criterion(outputs, labels)\n",
        "                    loss.backward()\n",
        "                    optimizer.step()\n",
        "        trained_models.append(model)\n",
        "    return trained_models\n"
      ],
      "metadata": {
        "id": "Ty3tLS41My-Z"
      },
      "id": "Ty3tLS41My-Z",
      "execution_count": 7,
      "outputs": []
    },
    {
      "cell_type": "markdown",
      "source": [
        "## Model Aggregation\n",
        "We'll aggregate the trained models by averaging their predictions."
      ],
      "metadata": {
        "id": "6muK7Hm9M3k0"
      },
      "id": "6muK7Hm9M3k0"
    },
    {
      "cell_type": "code",
      "source": [
        "def aggregate_models(trained_models, dataloader):\n",
        "    all_predictions = []\n",
        "    all_labels = []\n",
        "    with torch.no_grad():\n",
        "        for images, labels in dataloader:\n",
        "            images = images.to(device)\n",
        "            outputs = [model(images).cpu() for model in trained_models]\n",
        "            avg_output = sum(outputs) / len(outputs)\n",
        "            _, predictions = torch.max(avg_output, 1)\n",
        "            all_predictions.extend(predictions.numpy())\n",
        "            all_labels.extend(labels.numpy())\n",
        "    return all_predictions, all_labels\n"
      ],
      "metadata": {
        "id": "ia8kAYBHM5ns"
      },
      "id": "ia8kAYBHM5ns",
      "execution_count": 8,
      "outputs": []
    },
    {
      "cell_type": "markdown",
      "source": [
        "## Evaluation"
      ],
      "metadata": {
        "id": "E3Si7mGANA9L"
      },
      "id": "E3Si7mGANA9L"
    },
    {
      "cell_type": "code",
      "source": [
        "def evaluate_model(predictions, labels):\n",
        "    f1 = f1_score(labels, predictions, average='macro')\n",
        "    accuracy = accuracy_score(labels, predictions)\n",
        "    precision = precision_score(labels, predictions, average='macro')\n",
        "    recall = recall_score(labels, predictions, average='macro')\n",
        "    # For AUROC, we need probabilities\n",
        "    # Here we consider AUROC for each class\n",
        "    auroc = roc_auc_score(labels, np.array(predictions), multi_class='ovr')\n",
        "    return f1, accuracy, precision, recall, auroc\n",
        "\n",
        "# Training and evaluation process for small dataset\n",
        "epochs_per_slice = 1  # Number of epochs to train per slice for quick testing\n",
        "\n",
        "slices = split_dataset(small_train_dataset, num_shards, num_slices)\n",
        "print(1)\n",
        "trained_models = train_model_on_slices(slices, epochs_per_slice)\n",
        "print(2)\n",
        "test_loader = DataLoader(test_dataset, batch_size=64, shuffle=False)\n",
        "print(3)\n",
        "predictions, labels = aggregate_models(trained_models, test_loader)\n",
        "print(4)\n",
        "metrics = evaluate_model(predictions, labels)\n",
        "\n",
        "# Display results\n",
        "print(f'Configuration (S={num_shards}, R={num_slices}):')\n",
        "print(f'F1 Score: {metrics[0]}')\n",
        "print(f'Accuracy: {metrics[1]}')\n",
        "print(f'Precision: {metrics[2]}')\n",
        "print(f'Recall: {metrics[3]}')\n",
        "print(f'AUROC: {metrics[4]}')\n",
        "print('----------------------------')\n"
      ],
      "metadata": {
        "colab": {
          "base_uri": "https://localhost:8080/"
        },
        "id": "_wQZMV4YM9kd",
        "outputId": "948f28d6-cd2f-4793-87cd-31e562af6cd8"
      },
      "id": "_wQZMV4YM9kd",
      "execution_count": null,
      "outputs": [
        {
          "metadata": {
            "tags": null
          },
          "name": "stdout",
          "output_type": "stream",
          "text": [
            "Shard 1 size: 100\n",
            "Shard 1, Slice 1 size: 50\n",
            "Shard 1, Slice 2 size: 50\n",
            "Shard 2 size: 100\n",
            "Shard 2, Slice 1 size: 50\n",
            "Shard 2, Slice 2 size: 50\n"
          ]
        },
        {
          "metadata": {
            "tags": null
          },
          "name": "stderr",
          "output_type": "stream",
          "text": [
            "/usr/local/lib/python3.10/dist-packages/torchvision/models/_utils.py:208: UserWarning: The parameter 'pretrained' is deprecated since 0.13 and may be removed in the future, please use 'weights' instead.\n",
            "  warnings.warn(\n",
            "/usr/local/lib/python3.10/dist-packages/torchvision/models/_utils.py:223: UserWarning: Arguments other than a weight enum or `None` for 'weights' are deprecated since 0.13 and may be removed in the future. The current behavior is equivalent to passing `weights=ResNet18_Weights.IMAGENET1K_V1`. You can also use `weights=ResNet18_Weights.DEFAULT` to get the most up-to-date weights.\n",
            "  warnings.warn(msg)\n"
          ]
        }
      ]
    },
    {
      "cell_type": "code",
      "source": [],
      "metadata": {
        "id": "E3jop7ykM_-y"
      },
      "id": "E3jop7ykM_-y",
      "execution_count": null,
      "outputs": []
    }
  ],
  "metadata": {
    "kernelspec": {
      "display_name": "Python 3 (ipykernel)",
      "language": "python",
      "name": "python3"
    },
    "language_info": {
      "codemirror_mode": {
        "name": "ipython",
        "version": 3
      },
      "file_extension": ".py",
      "mimetype": "text/x-python",
      "name": "python",
      "nbconvert_exporter": "python",
      "pygments_lexer": "ipython3",
      "version": "3.10.9"
    },
    "colab": {
      "provenance": []
    }
  },
  "nbformat": 4,
  "nbformat_minor": 5
}